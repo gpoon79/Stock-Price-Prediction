{
 "cells": [
  {
   "cell_type": "code",
   "execution_count": 75,
   "metadata": {},
   "outputs": [],
   "source": [
    "#Data Wrangling\n",
    "import numpy as np\n",
    "import pandas as pd\n",
    "import math as ma\n",
    "from scipy.stats import randint as sp_randint\n",
    "from scipy.special import comb\n",
    "\n",
    "#Regression\n",
    "from sklearn.linear_model import LinearRegression\n",
    "from sklearn.linear_model import LogisticRegression\n",
    "from sklearn.linear_model import Lasso\n",
    "from sklearn.linear_model import LassoCV\n",
    "from sklearn.linear_model import Ridge\n",
    "from sklearn.linear_model import RidgeCV\n",
    "from sklearn.decomposition import PCA\n",
    "from sklearn.naive_bayes import GaussianNB\n",
    "from sklearn.ensemble import RandomForestClassifier\n",
    "from sklearn.ensemble import RandomForestRegressor\n",
    "from sklearn.preprocessing import scale\n",
    "from sklearn.preprocessing import StandardScaler\n",
    "from sklearn.model_selection import RandomizedSearchCV\n",
    "from sklearn.model_selection import GridSearchCV\n",
    "from sklearn.metrics import mean_squared_error\n",
    "from sklearn.svm import SVC  \n",
    "\n",
    "#Preprocessing packages\n",
    "from sklearn.model_selection import train_test_split\n",
    "from sklearn.preprocessing import PolynomialFeatures\n",
    "from sklearn.preprocessing import OneHotEncoder\n",
    "from sklearn.pipeline import Pipeline\n",
    "from sklearn.pipeline import FeatureUnion\n",
    "from sklearn.base import BaseEstimator, TransformerMixin\n",
    "\n",
    "#Cross Validation\n",
    "from sklearn.model_selection import cross_val_score\n",
    "from sklearn.model_selection import KFold\n",
    "from sklearn.model_selection import RandomizedSearchCV\n",
    "\n",
    "#Metrics\n",
    "from sklearn.metrics import confusion_matrix\n",
    "from sklearn.metrics import accuracy_score\n",
    "from sklearn.metrics import precision_score\n",
    "from sklearn.metrics import roc_auc_score\n",
    "\n",
    "import seaborn as sns\n",
    "import matplotlib.pyplot as plt\n",
    "from IPython.display import Image \n",
    "\n",
    "import operator as op\n",
    "from _functools import partial, reduce\n",
    "\n",
    "#Bootstrap\n",
    "from sklearn.utils import resample\n",
    "\n",
    "from yellowbrick.regressor import ResidualsPlot\n",
    "\n",
    "import warnings\n",
    "warnings.filterwarnings(\"ignore\")\n",
    "\n",
    "%matplotlib inline"
   ]
  },
  {
   "cell_type": "markdown",
   "metadata": {},
   "source": [
    "## Part 1: Load Data"
   ]
  },
  {
   "cell_type": "code",
   "execution_count": 3,
   "metadata": {},
   "outputs": [
    {
     "data": {
      "text/html": [
       "<div>\n",
       "<style scoped>\n",
       "    .dataframe tbody tr th:only-of-type {\n",
       "        vertical-align: middle;\n",
       "    }\n",
       "\n",
       "    .dataframe tbody tr th {\n",
       "        vertical-align: top;\n",
       "    }\n",
       "\n",
       "    .dataframe thead th {\n",
       "        text-align: right;\n",
       "    }\n",
       "</style>\n",
       "<table border=\"1\" class=\"dataframe\">\n",
       "  <thead>\n",
       "    <tr style=\"text-align: right;\">\n",
       "      <th></th>\n",
       "      <th>comp4_xt+1</th>\n",
       "    </tr>\n",
       "  </thead>\n",
       "  <tbody>\n",
       "    <tr>\n",
       "      <th>1699</th>\n",
       "      <td>-0.017681</td>\n",
       "    </tr>\n",
       "    <tr>\n",
       "      <th>639</th>\n",
       "      <td>0.012778</td>\n",
       "    </tr>\n",
       "    <tr>\n",
       "      <th>1002</th>\n",
       "      <td>-0.002755</td>\n",
       "    </tr>\n",
       "    <tr>\n",
       "      <th>1352</th>\n",
       "      <td>-0.005188</td>\n",
       "    </tr>\n",
       "    <tr>\n",
       "      <th>995</th>\n",
       "      <td>-0.007290</td>\n",
       "    </tr>\n",
       "  </tbody>\n",
       "</table>\n",
       "</div>"
      ],
      "text/plain": [
       "      comp4_xt+1\n",
       "1699   -0.017681\n",
       "639     0.012778\n",
       "1002   -0.002755\n",
       "1352   -0.005188\n",
       "995    -0.007290"
      ]
     },
     "execution_count": 3,
     "metadata": {},
     "output_type": "execute_result"
    }
   ],
   "source": [
    "StocksX = pd.read_csv(\"X.csv\")\n",
    "StocksY = pd.read_csv(\"Y.csv\")\n",
    "\n",
    "x_train, x_test, y_train, y_test = train_test_split(StocksX, StocksY, test_size=0.2, random_state=1)\n",
    "y_train.head()"
   ]
  },
  {
   "cell_type": "code",
   "execution_count": 97,
   "metadata": {},
   "outputs": [
    {
     "data": {
      "text/plain": [
       "<matplotlib.axes._subplots.AxesSubplot at 0x1c071dba9e8>"
      ]
     },
     "execution_count": 97,
     "metadata": {},
     "output_type": "execute_result"
    },
    {
     "data": {
      "image/png": "[encoded data removed]",
      "text/plain": [
       "<Figure size 432x288 with 1 Axes>"
      ]
     },
     "metadata": {},
     "output_type": "display_data"
    }
   ],
   "source": [
    "pd.plotting.autocorrelation_plot(x_train)"
   ]
  },
  {
   "cell_type": "markdown",
   "metadata": {},
   "source": [
    "## Part 2: Explore Various Regression Models and Find the Best to Predict  $x_{t+1}$"
   ]
  },
  {
   "cell_type": "code",
   "execution_count": 4,
   "metadata": {},
   "outputs": [],
   "source": [
    "def report(results, n_top=3):\n",
    "    for i in range(1, n_top + 1):\n",
    "        candidates = np.flatnonzero(results['rank_test_score'] == i)\n",
    "        for candidate in candidates:\n",
    "            print(\"Model with rank: {0}\".format(i))\n",
    "            print(\"Mean validation score: {0:.3f} (std: {1:.3f})\".format(\n",
    "                  results['mean_test_score'][candidate],\n",
    "                  results['std_test_score'][candidate]))\n",
    "            print(\"Parameters: {0}\".format(results['params'][candidate]))\n",
    "            print(\"\")"
   ]
  },
  {
   "cell_type": "code",
   "execution_count": 93,
   "metadata": {},
   "outputs": [
    {
     "name": "stdout",
     "output_type": "stream",
     "text": [
      "test MSE: 0.000190\n",
      "R squared for linear model:  -0.19017275422628166\n"
     ]
    }
   ],
   "source": [
    "#Linear Regression\n",
    "LR = LinearRegression()\n",
    "LR.fit(x_train, y_train)\n",
    "score = LR.score(x_test, y_test)\n",
    "mse = mean_squared_error(y_test, LR.predict(x_test))\n",
    "print(\"test MSE: %.6f\" % mse)\n",
    "print(\"R squared for linear model: \",score)"
   ]
  },
  {
   "cell_type": "code",
   "execution_count": 98,
   "metadata": {},
   "outputs": [
    {
     "name": "stdout",
     "output_type": "stream",
     "text": [
      "optimal lambda:  2.9037695363635965e-05\n",
      "number of non-zero coefficients:  0\n",
      "[]\n",
      "test MSE: 0.000160\n",
      "R Squared: -0.004312\n"
     ]
    },
    {
     "data": {
      "image/png": "[encoded data removed]",
      "text/plain": [
       "<Figure size 432x288 with 1 Axes>"
      ]
     },
     "metadata": {},
     "output_type": "display_data"
    }
   ],
   "source": [
    "#Lasso\n",
    "lasso_model = LassoCV(cv=5,max_iter=3000,\n",
    "                      random_state=1).fit(x_train,y_train)\n",
    "lambdas = lasso_model.alphas_\n",
    "    \n",
    "plt.figure()\n",
    "plt.plot(lambdas, lasso_model.mse_path_.mean(axis=-1),'k',linewidth=2)\n",
    "\n",
    "plt.xlabel('Lambda Value')\n",
    "plt.ylabel('Mean square error')\n",
    "plt.axis('tight')\n",
    "\n",
    "print(\"optimal lambda: \",lasso_model.alpha_)\n",
    "lasso = Lasso(alpha=lasso_model.alpha_, normalize=True)\n",
    "lasso.fit(x_train,y_train)\n",
    "\n",
    "print(\"number of non-zero coefficients: \",np.count_nonzero(lasso.coef_))\n",
    "print(list(zip(lasso.coef_[lasso.coef_!=0], list(x_train))))\n",
    "\n",
    "pred = lasso.predict(x_test)\n",
    "rsq = lasso.score(x_test,y_test)\n",
    "mse = mean_squared_error(y_test, pred)\n",
    "\n",
    "print(\"test MSE: %.6f\" % mse)\n",
    "print(\"R Squared: %.6f\" % rsq)"
   ]
  },
  {
   "cell_type": "code",
   "execution_count": 46,
   "metadata": {},
   "outputs": [
    {
     "name": "stdout",
     "output_type": "stream",
     "text": [
      "optimal lambda:  10000.0\n",
      "test MSE: 0.000160\n",
      "R Squared: -0.004324\n"
     ]
    }
   ],
   "source": [
    "#Ridge\n",
    "alphas = [1e-6,1e-5,1e-4,1e-3,1e-2,0.1,1,10,100,1000,1e4]\n",
    "x_scale = scale(x_train)\n",
    "ridge_model = RidgeCV(alphas=alphas,cv=5).fit(x_scale,y_train)\n",
    "\n",
    "print(\"optimal lambda: \",ridge_model.alpha_)\n",
    "ridge = Ridge(alpha=ridge_model.alpha_,normalize=True)\n",
    "ridge.fit(x_scale,y_train)\n",
    "\n",
    "x_scale_test = scale(x_test)\n",
    "pred = ridge.predict(x_scale_test)\n",
    "rsq = ridge.score(x_scale_test,y_test)\n",
    "mse = mean_squared_error(y_test, pred)\n",
    "\n",
    "print(\"test MSE: %.6f\" % mse)\n",
    "print(\"R Squared: %.6f\" % rsq)"
   ]
  },
  {
   "cell_type": "code",
   "execution_count": 159,
   "metadata": {},
   "outputs": [
    {
     "name": "stdout",
     "output_type": "stream",
     "text": [
      "test MSE:  comp4_xt+1    0.000162\n",
      "dtype: float64\n",
      "R Squared: -0.015393\n",
      "number of principal components selected: 3\n"
     ]
    },
    {
     "data": {
      "image/png": "[encoded data removed]",
      "text/plain": [
       "<Figure size 432x288 with 1 Axes>"
      ]
     },
     "metadata": {},
     "output_type": "display_data"
    }
   ],
   "source": [
    "#PCA\n",
    "score = np.array([])\n",
    "pca = PCA(svd_solver='full')\n",
    "X_reduced = pca.fit_transform(scale(x_train))\n",
    "regr = LinearRegression()\n",
    "\n",
    "cv_method = KFold(n_splits=5,shuffle=True,random_state = 1)\n",
    "for i in np.arange(1,21):\n",
    "    error = -1*np.mean(cross_val_score(regr,X_reduced[:,:i],y_train,cv = cv_method,\n",
    "                                       scoring = 'neg_mean_squared_error'))\n",
    "    score = np.append(score,error)\n",
    "    \n",
    "ax=sns.pointplot(x = np.arange(1,21),y = score)\n",
    "ax.set_xticklabels(ax.get_xticklabels(),rotation=90)\n",
    "plt.title('K-Fold Cross Validation Approach')\n",
    "plt.xlabel('Number of Principal Components')\n",
    "plt.ylabel('MSE')\n",
    "\n",
    "n=3\n",
    "\n",
    "regr.fit(X_reduced[:,:n],y_train)\n",
    "X_test_reduced = pca.fit_transform(scale(x_test))\n",
    "\n",
    "pred = regr.predict(X_test_reduced[:,:n])\n",
    "rsq = regr.score(X_test_reduced[:,:n],y_test)\n",
    "mse = np.mean((pred - y_test)**2)\n",
    "\n",
    "print(\"test MSE: \",mse)\n",
    "print(\"R Squared: %.6f\" % rsq)\n",
    "print(\"number of principal components selected: %d\" % n)"
   ]
  },
  {
   "cell_type": "code",
   "execution_count": 165,
   "metadata": {},
   "outputs": [
    {
     "data": {
      "text/plain": [
       "Text(0,0.5,'Explained Variance')"
      ]
     },
     "execution_count": 165,
     "metadata": {},
     "output_type": "execute_result"
    },
    {
     "data": {
      "image/png": "[encoded data removed]",
      "text/plain": [
       "<Figure size 432x288 with 1 Axes>"
      ]
     },
     "metadata": {},
     "output_type": "display_data"
    }
   ],
   "source": [
    "pca_trafo = PCA().fit(scale(x_train));\n",
    "\n",
    "plt.semilogy(pca_trafo.explained_variance_ratio_[0:4], '--o')\n",
    "plt.xlabel('Number of Principal Components')\n",
    "plt.ylabel('Explained Variance')"
   ]
  },
  {
   "cell_type": "code",
   "execution_count": 158,
   "metadata": {},
   "outputs": [
    {
     "name": "stdout",
     "output_type": "stream",
     "text": [
      "test MSE:  comp4_xt+1    0.000158\n",
      "dtype: float64\n",
      "R Squared: 0.007512\n",
      "number of principal components selected: 3\n"
     ]
    }
   ],
   "source": [
    "#PCA + Interaction\n",
    "pca = PCA(svd_solver='full')\n",
    "\n",
    "X_reduced = pca.fit_transform(scale(x_train))\n",
    "poly_reduced = PolynomialFeatures(interaction_only=True,include_bias = False)\n",
    "\n",
    "regr = LinearRegression()\n",
    "\n",
    "n = 3\n",
    "x_interact_reduced = poly_reduced.fit_transform(X_reduced[:,:n])\n",
    "regr.fit(x_interact_reduced,y_train)\n",
    "X_test_reduced = pca.fit_transform(scale(x_test))\n",
    "x_interact_test_reduced = poly_reduced.fit_transform(X_test_reduced[:,:n])\n",
    "\n",
    "pred = regr.predict(x_interact_test_reduced)\n",
    "rsq = regr.score(x_interact_test_reduced,y_test)\n",
    "mse = np.mean((pred - y_test)**2)\n",
    "\n",
    "print(\"test MSE: \",mse)\n",
    "print(\"R Squared: %.6f\" % rsq)\n",
    "print(\"number of principal components selected: %d\" % n)"
   ]
  },
  {
   "cell_type": "code",
   "execution_count": 89,
   "metadata": {},
   "outputs": [
    {
     "name": "stdout",
     "output_type": "stream",
     "text": [
      "Model with rank: 1\n",
      "Mean validation score: -0.009 (std: 0.005)\n",
      "Parameters: {'max_depth': 1, 'max_features': 7, 'min_samples_leaf': 2, 'min_samples_split': 5, 'n_estimators': 300}\n",
      "\n",
      "Model with rank: 2\n",
      "Mean validation score: -0.009 (std: 0.006)\n",
      "Parameters: {'max_depth': 1, 'max_features': 11, 'min_samples_leaf': 1, 'min_samples_split': 10, 'n_estimators': 150}\n",
      "\n",
      "Model with rank: 3\n",
      "Mean validation score: -0.010 (std: 0.007)\n",
      "Parameters: {'max_depth': 1, 'max_features': 11, 'min_samples_leaf': 2, 'min_samples_split': 10, 'n_estimators': 200}\n",
      "\n"
     ]
    }
   ],
   "source": [
    "#randomForest\n",
    "clf = RandomForestRegressor()\n",
    "param_dist = {\"max_depth\": sp_randint(1,10),\n",
    "              \"n_estimators\": [100,150,200,250,300],\n",
    "              \"max_features\": sp_randint(ma.floor(ma.log(x_train.shape[1],2)),\n",
    "                                         ma.ceil(ma.sqrt(x_train.shape[1]))),\n",
    "              \"min_samples_leaf\": [1, 2, 4],\n",
    "              \"min_samples_split\": [2, 5, 10]}\n",
    "random_search = RandomizedSearchCV(clf, param_distributions=param_dist, \n",
    "                                   cv=5, n_iter=50, random_state=1)\n",
    "random_search.fit(x_train, y_train)\n",
    "report(random_search.cv_results_)"
   ]
  },
  {
   "cell_type": "code",
   "execution_count": 132,
   "metadata": {},
   "outputs": [
    {
     "name": "stdout",
     "output_type": "stream",
     "text": [
      "Model with rank: 1\n",
      "Mean validation score: -0.007 (std: 0.004)\n",
      "Parameters: {'max_depth': 1, 'max_features': 7, 'min_samples_leaf': 2, 'min_samples_split': 10, 'n_estimators': 150}\n",
      "\n",
      "Model with rank: 2\n",
      "Mean validation score: -0.007 (std: 0.005)\n",
      "Parameters: {'max_depth': 1, 'max_features': 8, 'min_samples_leaf': 2, 'min_samples_split': 10, 'n_estimators': 200}\n",
      "\n",
      "Model with rank: 3\n",
      "Mean validation score: -0.007 (std: 0.004)\n",
      "Parameters: {'max_depth': 1, 'max_features': 11, 'min_samples_leaf': 2, 'min_samples_split': 10, 'n_estimators': 200}\n",
      "\n"
     ]
    }
   ],
   "source": [
    "param_grid = {\"max_depth\": [1,2],\n",
    "              \"n_estimators\": [150,200,300],\n",
    "              \"max_features\": [7,8,9,10,11],\n",
    "              \"min_samples_leaf\": [1,2,4],\n",
    "              \"min_samples_split\": [2,5,10]}\n",
    "\n",
    "grid_search = GridSearchCV(clf, param_grid=param_grid, cv=5)\n",
    "grid_search.fit(x_train, y_train)\n",
    "report(grid_search.cv_results_)"
   ]
  },
  {
   "cell_type": "code",
   "execution_count": 91,
   "metadata": {},
   "outputs": [
    {
     "name": "stdout",
     "output_type": "stream",
     "text": [
      "test MSE: 0.000159\n",
      "R Squared: 0.000426\n"
     ]
    }
   ],
   "source": [
    "clf.set_params(max_depth=1,max_features=7,min_samples_leaf=2,min_samples_split=10,n_estimators=150)\n",
    "clf.fit(x_train, y_train)\n",
    "pred = clf.predict(x_test)\n",
    "rsq = clf.score(x_test,y_test)\n",
    "mse = mean_squared_error(y_test, pred)\n",
    "print(\"test MSE: %.6f\" % mse)\n",
    "print(\"R Squared: %.6f\" % rsq)"
   ]
  },
  {
   "cell_type": "markdown",
   "metadata": {},
   "source": [
    "## Part 3: Explore Various Classification Models and Find the Best to Predict  $x_{t+1} >= 0$"
   ]
  },
  {
   "cell_type": "code",
   "execution_count": 5,
   "metadata": {},
   "outputs": [
    {
     "data": {
      "text/plain": [
       "1699    False\n",
       "639      True\n",
       "1002    False\n",
       "1352    False\n",
       "995     False\n",
       "Name: comp4_xt+1_bi, dtype: bool"
      ]
     },
     "execution_count": 5,
     "metadata": {},
     "output_type": "execute_result"
    }
   ],
   "source": [
    "StocksY['comp4_xt+1_bi']=(StocksY['comp4_xt+1']>=0)\n",
    "y_bi_train, y_bi_test = train_test_split(StocksY['comp4_xt+1_bi'], test_size=0.2, random_state=1)\n",
    "y_bi_train.head()"
   ]
  },
  {
   "cell_type": "code",
   "execution_count": 7,
   "metadata": {},
   "outputs": [
    {
     "name": "stdout",
     "output_type": "stream",
     "text": [
      "[[ 84 133]\n",
      " [108 176]]\n"
     ]
    }
   ],
   "source": [
    "#L2 Logistics\n",
    "train_logm = LogisticRegression(random_state=1, penalty='l2', solver='lbfgs',\n",
    "                                multi_class='multinomial').fit(x_train,y_bi_train)\n",
    "pred_y_log = train_logm.predict(x_test)\n",
    "print(confusion_matrix(y_bi_test,pred_y_log))"
   ]
  },
  {
   "cell_type": "code",
   "execution_count": 8,
   "metadata": {},
   "outputs": [
    {
     "name": "stdout",
     "output_type": "stream",
     "text": [
      "Accuracy: 0.5189620758483033\n",
      "Precision: 0.56957928802589\n",
      "AUC:  0.5034075420263516\n"
     ]
    }
   ],
   "source": [
    "print(\"Accuracy:\",accuracy_score(y_bi_test,pred_y_log))\n",
    "print(\"Precision:\",precision_score(y_bi_test,pred_y_log))\n",
    "print(\"AUC: \",roc_auc_score(y_bi_test,pred_y_log))"
   ]
  },
  {
   "cell_type": "code",
   "execution_count": 77,
   "metadata": {},
   "outputs": [],
   "source": [
    "#Naive Bayes\n",
    "y_gnb_train = pd.Series.to_frame(y_bi_train)\n",
    "y_gnb_test = pd.Series.to_frame(y_bi_test)\n",
    "gnb = GaussianNB()\n",
    "gnb.fit(x_train,y_gnb_train)\n",
    "y_pred_gnb = gnb.predict(x_test)"
   ]
  },
  {
   "cell_type": "code",
   "execution_count": 78,
   "metadata": {},
   "outputs": [
    {
     "name": "stdout",
     "output_type": "stream",
     "text": [
      "[[156  61]\n",
      " [191  93]]\n"
     ]
    }
   ],
   "source": [
    "print(confusion_matrix(y_gnb_test,y_pred_gnb))"
   ]
  },
  {
   "cell_type": "code",
   "execution_count": 79,
   "metadata": {},
   "outputs": [
    {
     "name": "stdout",
     "output_type": "stream",
     "text": [
      "Accuracy: 0.49700598802395207\n",
      "Precision: 0.6038961038961039\n",
      "AUC:  0.5231793989744922\n"
     ]
    }
   ],
   "source": [
    "print(\"Accuracy:\",accuracy_score(y_gnb_test,y_pred_gnb))\n",
    "print(\"Precision:\",precision_score(y_gnb_test,y_pred_gnb))\n",
    "print(\"AUC: \",roc_auc_score(y_gnb_test,y_pred_gnb))"
   ]
  },
  {
   "cell_type": "code",
   "execution_count": 135,
   "metadata": {},
   "outputs": [
    {
     "name": "stdout",
     "output_type": "stream",
     "text": [
      "Model with rank: 1\n",
      "Mean validation score: 0.518 (std: 0.011)\n",
      "Parameters: {'max_depth': 9, 'max_features': 13, 'min_samples_leaf': 2, 'min_samples_split': 10, 'n_estimators': 300}\n",
      "\n",
      "Model with rank: 2\n",
      "Mean validation score: 0.517 (std: 0.018)\n",
      "Parameters: {'max_depth': 8, 'max_features': 11, 'min_samples_leaf': 2, 'min_samples_split': 5, 'n_estimators': 100}\n",
      "\n",
      "Model with rank: 3\n",
      "Mean validation score: 0.516 (std: 0.010)\n",
      "Parameters: {'max_depth': 3, 'max_features': 13, 'min_samples_leaf': 4, 'min_samples_split': 10, 'n_estimators': 100}\n",
      "\n"
     ]
    }
   ],
   "source": [
    "#RandomForest\n",
    "clc = RandomForestClassifier()\n",
    "param_dist = {\"max_depth\": sp_randint(1,10),\n",
    "              \"n_estimators\": [100,150,200,250,300],\n",
    "              \"max_features\": sp_randint(ma.floor(ma.log(x_train.shape[1],2)),\n",
    "                                         ma.ceil(ma.sqrt(x_train.shape[1]))),\n",
    "              \"min_samples_leaf\": [1, 2, 4],\n",
    "              \"min_samples_split\": [2, 5, 10]}\n",
    "random_search = RandomizedSearchCV(clc, param_distributions=param_dist, \n",
    "                                   cv=5, n_iter=50, random_state=1)\n",
    "random_search.fit(x_train, y_bi_train)\n",
    "report(random_search.cv_results_)"
   ]
  },
  {
   "cell_type": "code",
   "execution_count": 139,
   "metadata": {},
   "outputs": [
    {
     "name": "stdout",
     "output_type": "stream",
     "text": [
      "Model with rank: 1\n",
      "Mean validation score: 0.526 (std: 0.019)\n",
      "Parameters: {'max_depth': 3, 'max_features': 11, 'min_samples_leaf': 2, 'min_samples_split': 10, 'n_estimators': 100}\n",
      "\n",
      "Model with rank: 2\n",
      "Mean validation score: 0.522 (std: 0.014)\n",
      "Parameters: {'max_depth': 3, 'max_features': 13, 'min_samples_leaf': 4, 'min_samples_split': 10, 'n_estimators': 100}\n",
      "\n",
      "Model with rank: 3\n",
      "Mean validation score: 0.519 (std: 0.026)\n",
      "Parameters: {'max_depth': 8, 'max_features': 12, 'min_samples_leaf': 2, 'min_samples_split': 10, 'n_estimators': 100}\n",
      "\n"
     ]
    }
   ],
   "source": [
    "param_grid = {\"max_depth\": [3,8,9,None],\n",
    "              \"n_estimators\": [100,300],\n",
    "              \"max_features\": [11,12,13],\n",
    "              \"min_samples_leaf\": [2,4],\n",
    "              \"min_samples_split\": [5,10]}\n",
    "\n",
    "grid_search = GridSearchCV(clc, param_grid=param_grid, cv=5)\n",
    "grid_search.fit(x_train, y_bi_train)\n",
    "report(grid_search.cv_results_)"
   ]
  },
  {
   "cell_type": "code",
   "execution_count": 5,
   "metadata": {},
   "outputs": [
    {
     "name": "stdout",
     "output_type": "stream",
     "text": [
      "[[ 57 160]\n",
      " [ 89 195]]\n"
     ]
    }
   ],
   "source": [
    "clc.set_params(max_depth=3,max_features=11,min_samples_leaf=2,min_samples_split=10,n_estimators=100)\n",
    "clc.fit(x_train, y_bi_train)\n",
    "pred = clc.predict(x_test)\n",
    "print(confusion_matrix(y_bi_test,pred))"
   ]
  },
  {
   "cell_type": "code",
   "execution_count": 6,
   "metadata": {},
   "outputs": [
    {
     "name": "stdout",
     "output_type": "stream",
     "text": [
      "Accuracy: 0.5029940119760479\n",
      "Precision: 0.5492957746478874\n",
      "AUC:  0.47464626468488347\n"
     ]
    }
   ],
   "source": [
    "print(\"Accuracy:\",accuracy_score(y_bi_test,pred))\n",
    "print(\"Precision:\",precision_score(y_bi_test,pred))\n",
    "print(\"AUC: \",roc_auc_score(y_bi_test,pred))"
   ]
  },
  {
   "cell_type": "code",
   "execution_count": 47,
   "metadata": {},
   "outputs": [
    {
     "name": "stdout",
     "output_type": "stream",
     "text": [
      "Model with rank: 1\n",
      "Mean validation score: 0.509 (std: 0.028)\n",
      "Parameters: {'kernel': 'linear', 'C': 400.0}\n",
      "\n",
      "Model with rank: 2\n",
      "Mean validation score: 0.508 (std: 0.021)\n",
      "Parameters: {'kernel': 'linear', 'C': 900.0}\n",
      "\n",
      "Model with rank: 3\n",
      "Mean validation score: 0.507 (std: 0.025)\n",
      "Parameters: {'kernel': 'linear', 'C': 600.0}\n",
      "\n",
      "Model with rank: 3\n",
      "Mean validation score: 0.507 (std: 0.022)\n",
      "Parameters: {'kernel': 'linear', 'C': 1000.0}\n",
      "\n"
     ]
    }
   ],
   "source": [
    "#SVC\n",
    "svc_ker = SVC()\n",
    "param_dist = {\"kernel\":['linear'],\n",
    "            \"C\":np.linspace(100,1000,10)}\n",
    "random_search = RandomizedSearchCV(svc_ker, param_distributions=param_dist, \n",
    "                                   cv=5, n_iter=20, random_state=1)\n",
    "random_search.fit(x_train, y_bi_train)\n",
    "report(random_search.cv_results_)"
   ]
  },
  {
   "cell_type": "code",
   "execution_count": 195,
   "metadata": {},
   "outputs": [
    {
     "name": "stdout",
     "output_type": "stream",
     "text": [
      "Model with rank: 1\n",
      "Mean validation score: 0.515 (std: 0.011)\n",
      "Parameters: {'kernel': 'sigmoid', 'degree': 5, 'C': 300.0}\n",
      "\n",
      "Model with rank: 2\n",
      "Mean validation score: 0.509 (std: 0.001)\n",
      "Parameters: {'kernel': 'poly', 'degree': 4, 'C': 500.0}\n",
      "\n",
      "Model with rank: 2\n",
      "Mean validation score: 0.509 (std: 0.001)\n",
      "Parameters: {'kernel': 'poly', 'degree': 3, 'C': 900.0}\n",
      "\n",
      "Model with rank: 2\n",
      "Mean validation score: 0.509 (std: 0.001)\n",
      "Parameters: {'kernel': 'poly', 'degree': 3, 'C': 100.0}\n",
      "\n",
      "Model with rank: 2\n",
      "Mean validation score: 0.509 (std: 0.001)\n",
      "Parameters: {'kernel': 'poly', 'degree': 5, 'C': 800.0}\n",
      "\n",
      "Model with rank: 2\n",
      "Mean validation score: 0.509 (std: 0.001)\n",
      "Parameters: {'kernel': 'poly', 'degree': 4, 'C': 200.0}\n",
      "\n",
      "Model with rank: 2\n",
      "Mean validation score: 0.509 (std: 0.001)\n",
      "Parameters: {'kernel': 'poly', 'degree': 5, 'C': 300.0}\n",
      "\n"
     ]
    }
   ],
   "source": [
    "#SVC with kernel\n",
    "svc_ker = SVC()\n",
    "param_dist = {\"kernel\":['rbf','sigmoid','poly'],\n",
    "            \"C\":np.linspace(100,1000,10),\n",
    "             \"degree\":[1,2,3,4,5]}\n",
    "random_search = RandomizedSearchCV(svc_ker, param_distributions=param_dist, \n",
    "                                   cv=5, n_iter=20, random_state=1)\n",
    "random_search.fit(x_train, y_bi_train)\n",
    "report(random_search.cv_results_)"
   ]
  },
  {
   "cell_type": "code",
   "execution_count": 55,
   "metadata": {},
   "outputs": [
    {
     "name": "stdout",
     "output_type": "stream",
     "text": [
      "Model with rank: 1\n",
      "Mean validation score: 0.515 (std: 0.021)\n",
      "Parameters: {'C': 340.0, 'kernel': 'sigmoid'}\n",
      "\n",
      "Model with rank: 1\n",
      "Mean validation score: 0.515 (std: 0.021)\n",
      "Parameters: {'C': 350.0, 'kernel': 'sigmoid'}\n",
      "\n",
      "Model with rank: 3\n",
      "Mean validation score: 0.515 (std: 0.011)\n",
      "Parameters: {'C': 300.0, 'kernel': 'sigmoid'}\n",
      "\n"
     ]
    }
   ],
   "source": [
    "param_grid = {\"kernel\":['sigmoid'],\n",
    "            \"C\":np.linspace(200,400,21)}\n",
    "grid_search = GridSearchCV(svc_ker, param_grid=param_grid,cv=5)\n",
    "grid_search.fit(x_train, y_bi_train)\n",
    "report(grid_search.cv_results_)"
   ]
  },
  {
   "cell_type": "code",
   "execution_count": 56,
   "metadata": {},
   "outputs": [
    {
     "name": "stdout",
     "output_type": "stream",
     "text": [
      "Model with rank: 1\n",
      "Mean validation score: 0.502 (std: 0.016)\n",
      "Parameters: {'C': 1000.0, 'kernel': 'sigmoid'}\n",
      "\n",
      "Model with rank: 2\n",
      "Mean validation score: 0.500 (std: 0.020)\n",
      "Parameters: {'C': 1300.0, 'kernel': 'sigmoid'}\n",
      "\n",
      "Model with rank: 2\n",
      "Mean validation score: 0.500 (std: 0.024)\n",
      "Parameters: {'C': 1400.0, 'kernel': 'sigmoid'}\n",
      "\n"
     ]
    }
   ],
   "source": [
    "svc_ker = SVC()\n",
    "param_grid = {\"kernel\":['sigmoid'],\n",
    "            \"C\":np.linspace(1000,2000,11)}\n",
    "grid_search = GridSearchCV(svc_ker, param_grid=param_grid,cv=5)\n",
    "grid_search.fit(x_train, y_bi_train)\n",
    "report(grid_search.cv_results_)"
   ]
  },
  {
   "cell_type": "code",
   "execution_count": 73,
   "metadata": {},
   "outputs": [
    {
     "name": "stdout",
     "output_type": "stream",
     "text": [
      "[[ 24 193]\n",
      " [ 49 235]]\n"
     ]
    }
   ],
   "source": [
    "#sigmoid svm\n",
    "svclassifier_sig = SVC(kernel='sigmoid',C=340)  \n",
    "svclassifier_sig.fit(x_train, y_bi_train)  \n",
    "y_pred_svm = svclassifier_sig.predict(x_test)  \n",
    "print(confusion_matrix(y_bi_test,y_pred_svm))"
   ]
  },
  {
   "cell_type": "code",
   "execution_count": 74,
   "metadata": {},
   "outputs": [
    {
     "name": "stdout",
     "output_type": "stream",
     "text": [
      "Accuracy: 0.5169660678642715\n",
      "Precision: 0.5490654205607477\n",
      "AUC:  0.4690319335367041\n"
     ]
    }
   ],
   "source": [
    "print(\"Accuracy:\",accuracy_score(y_bi_test,y_pred_svm))\n",
    "print(\"Precision:\",precision_score(y_bi_test,y_pred_svm))\n",
    "print(\"AUC: \",roc_auc_score(y_bi_test,y_pred_svm))"
   ]
  },
  {
   "cell_type": "markdown",
   "metadata": {},
   "source": [
    "## Part 4: Encapsulate the model and prediction steps into a function for the two best models found (use the exact 2 cells provided below to do this)"
   ]
  },
  {
   "cell_type": "code",
   "execution_count": 48,
   "metadata": {},
   "outputs": [],
   "source": [
    "def predict_price(X_train, y_train, X_test):\n",
    "    n=3\n",
    "    pca = PCA(svd_solver='full')\n",
    "    regr = LinearRegression()\n",
    "    \n",
    "    X_reduced = pca.fit_transform(scale(x_train))\n",
    "    poly_reduced = PolynomialFeatures(interaction_only=True,include_bias = False)\n",
    "    x_interact_reduced = poly_reduced.fit_transform(X_reduced[:,:n])\n",
    "\n",
    "    regr.fit(x_interact_reduced,y_train)\n",
    "    X_test_reduced = pca.fit_transform(scale(X_test))\n",
    "    x_interact_test_reduced = poly_reduced.fit_transform(X_test_reduced[:,:n])\n",
    "\n",
    "    y_hat_test = regr.predict(x_interact_test_reduced)\n",
    "    \n",
    "    return y_hat_test"
   ]
  },
  {
   "cell_type": "code",
   "execution_count": 218,
   "metadata": {},
   "outputs": [],
   "source": [
    "def predict_dir(X_train,y_train,X_test):\n",
    "    \n",
    "    gnb = GaussianNB()\n",
    "    gnb.fit(x_train,y_train)\n",
    "    y_hat_test = gnb.predict(x_test)\n",
    "    \n",
    "    return y_hat_test"
   ]
  }
 ],
 "metadata": {
  "kernelspec": {
   "display_name": "Python 3",
   "language": "python",
   "name": "python3"
  },
  "language_info": {
   "codemirror_mode": {
    "name": "ipython",
    "version": 3
   },
   "file_extension": ".py",
   "mimetype": "text/x-python",
   "name": "python",
   "nbconvert_exporter": "python",
   "pygments_lexer": "ipython3",
   "version": "3.6.5"
  },
  "varInspector": {
   "cols": {
    "lenName": 16,
    "lenType": 16,
    "lenVar": 40
   },
   "kernels_config": {
    "python": {
     "delete_cmd_postfix": "",
     "delete_cmd_prefix": "del ",
     "library": "var_list.py",
     "varRefreshCmd": "print(var_dic_list())"
    },
    "r": {
     "delete_cmd_postfix": ") ",
     "delete_cmd_prefix": "rm(",
     "library": "var_list.r",
     "varRefreshCmd": "cat(var_dic_list()) "
    }
   },
   "types_to_exclude": [
    "module",
    "function",
    "builtin_function_or_method",
    "instance",
    "_Feature"
   ],
   "window_display": false
  }
 },
 "nbformat": 4,
 "nbformat_minor": 2
}
